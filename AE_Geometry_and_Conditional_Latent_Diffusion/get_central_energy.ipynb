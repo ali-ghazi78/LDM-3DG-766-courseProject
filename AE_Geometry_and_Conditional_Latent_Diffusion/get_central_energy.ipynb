{
 "cells": [
  {
   "cell_type": "code",
   "execution_count": 1,
   "id": "cd744602-cd72-40ea-a693-f6c6d6ba29ab",
   "metadata": {
    "tags": []
   },
   "outputs": [
    {
     "name": "stdout",
     "output_type": "stream",
     "text": [
      "hello\n"
     ]
    }
   ],
   "source": [
    "print(\"hello\")"
   ]
  },
  {
   "cell_type": "code",
   "execution_count": 2,
   "id": "92b82e93-1601-420b-a48e-3d2fee5b24f4",
   "metadata": {},
   "outputs": [
    {
     "name": "stdout",
     "output_type": "stream",
     "text": [
      "import completed\n"
     ]
    }
   ],
   "source": [
    "import sys\n",
    "sys.executable\n",
    "\n",
    "import argparse\n",
    "import os\n",
    "import shutil\n",
    "import time\n",
    "import numpy as np\n",
    "import torch\n",
    "from torch_geometric.data import Batch\n",
    "from torch_geometric.transforms import Compose\n",
    "from torch_scatter import scatter_sum, scatter_mean\n",
    "from tqdm.auto import tqdm\n",
    "import utils.misc as misc\n",
    "import utils.transforms as trans\n",
    "from datasets import get_dataset\n",
    "from datasets.pl_data import FOLLOW_BATCH\n",
    "from models.molopt_score_model import ScorePosNet3D, log_sample_categorical\n",
    "from utils.evaluation import atom_num\n",
    "from rdkit.Chem import AllChem\n",
    "from utils import reconstruct, transforms\n",
    "import pdb\n",
    "from rdkit.Chem import rdForceFieldHelpers\n",
    "import copy\n",
    "import argparse\n",
    "import os\n",
    "import shutil\n",
    "import numpy as np\n",
    "import torch\n",
    "import torch.utils.tensorboard\n",
    "from sklearn.metrics import roc_auc_score\n",
    "from torch.nn.utils import clip_grad_norm_\n",
    "from torch_geometric.loader import DataLoader\n",
    "from torch_geometric.transforms import Compose\n",
    "from tqdm.auto import tqdm\n",
    "import utils.misc as misc\n",
    "import utils.train as utils_train\n",
    "import utils.transforms as trans\n",
    "from datasets import get_dataset\n",
    "from datasets.pl_data import FOLLOW_BATCH\n",
    "from models.molopt_score_model import ScorePosNet3D\n",
    "import pdb\n",
    "import multiprocessing \n",
    "from utils.reconstruct import reconstruct_from_generated\n",
    "from datetime import datetime\n",
    "from rdkit import RDLogger\n",
    "import matplotlib.pyplot as plt\n",
    "import torch\n",
    "import numpy as np\n",
    "import torch.nn as nn\n",
    "from torch.utils.data import DataLoader, TensorDataset\n",
    "RDLogger.DisableLog('rdApp.*')   \n",
    "\n",
    "\n",
    "print(\"import completed\")"
   ]
  },
  {
   "cell_type": "code",
   "execution_count": 21,
   "id": "876bbea3-be59-46c9-94e6-1398bcb047f3",
   "metadata": {
    "tags": []
   },
   "outputs": [],
   "source": [
    "\n",
    "\n",
    "def get_energy(ligand_element, ligand_pos, protein_element, protein_pos):\n",
    "    energy = 1e7\n",
    "    pos_combined = np.concatenate(( ligand_pos,protein_pos)).tolist()\n",
    "    atom_combined = np.concatenate((ligand_element, protein_element )).tolist()\n",
    "    # print(pos_combined)\n",
    "    try:\n",
    "        mol = reconstruct_from_generated(pos_combined,atom_combined)\n",
    "        mp = rdForceFieldHelpers.MMFFGetMoleculeProperties(mol)\n",
    "\n",
    "        if mp == None:\n",
    "            energy = 1e7\n",
    "            return energy\n",
    "        # we set all of these to the default which is True\n",
    "            # mp.SetMMFFBondTerm(False)\n",
    "            # mp.SetMMFFAngleTerm(False)\n",
    "            # mp.SetMMFFStretchBendTerm(False)\n",
    "            # mp.SetMMFFTorsionTerm(False)\n",
    "            # mp.SetMMFFOopTerm(False)\n",
    "            # mp.SetMMFFVdWTerm(False)\n",
    "        ff = rdForceFieldHelpers.MMFFGetMoleculeForceField(mol, mp,nonBondedThresh=100)\n",
    "\n",
    "        energy = ff.CalcEnergy()\n",
    "    except:\n",
    "        energy = 1e7\n",
    "        pass\n",
    "    \n",
    "    return energy\n",
    "\n",
    "\n",
    "def recover_pos(batch, r_out):\n",
    "    batch_indicator = batch.ligand_element_batch\n",
    "    idx = set(batch_indicator.tolist())\n",
    "    pointer, ligand_pos2, ligand_atom2 = 0, [], []\n",
    "    for i in idx:\n",
    "        ligand_pos2.append(r_out[\"pos\"][pointer:(pointer + len(batch_indicator[batch_indicator == i]))])\n",
    "        ligand_atom2.append(batch[i].ligand_element)\n",
    "        pointer += len(batch_indicator[batch_indicator == i])\n",
    "        \n",
    "    return copy.copy(ligand_pos2), copy.copy(ligand_atom2)\n",
    "    \n",
    "    \n",
    "def decoder(model, batch, emb3d):\n",
    "    sigma = 1\n",
    "    mu = 0\n",
    "    batch_ligand = batch.ligand_element_batch\n",
    "\n",
    "    batch_protein = batch.protein_element_batch\n",
    "    center_pos = scatter_mean(batch.protein_pos, batch_protein, dim=0)\n",
    "    batch_center_pos = center_pos[batch_ligand]\n",
    "    init_ligand_pos = batch_center_pos + torch.randn_like(batch_center_pos) * sigma + mu\n",
    "    batch_ligand = batch.ligand_element_batch\n",
    "    ligand_num_atoms = scatter_sum(torch.ones_like(batch_ligand), batch_ligand, dim=0).tolist()\n",
    "    \n",
    "    #print(torch.mean(batch[0].protein_pos, dim = 0))\n",
    "    #print(torch.mean(init_ligand_pos[batch_ligand == 0], dim = 0))\n",
    "    r = model.reconstruc_3d(\n",
    "        protein_pos=batch.protein_pos,\n",
    "        protein_v=batch.protein_atom_feature.float(),\n",
    "        batch_protein=batch.protein_element_batch,\n",
    "\n",
    "        init_ligand_pos=init_ligand_pos,\n",
    "        emb_lat=emb3d,\n",
    "        init_ligand_v=batch.ligand_atom_feature_full,\n",
    "        batch_ligand=batch.ligand_element_batch,\n",
    "        num_steps=20,\n",
    "\n",
    "        pos_only=True,\n",
    "        center_pos_mode=\"protein\"\n",
    "    )\n",
    "    return r\n",
    "\n",
    "\n",
    "all_pose_ligand = []\n",
    "all_pose_protein = []\n",
    "all_atom_ligand = []\n",
    "all_atom_protein = []\n",
    "\n",
    "def gpu_func2( sel):\n",
    "    e = get_energy(all_atom_ligand[sel], all_pose_ligand[sel], all_atom_protein[sel], all_pose_protein[sel])\n",
    "    return e\n",
    "\n",
    "\n",
    "def gpu_func_ground_truth( sel):\n",
    "    e = get_energy(train_set[sel].ligand_element.detach().cpu().numpy(), train_set[sel].ligand_pos.detach().cpu().numpy(),  train_set[sel].protein_element.detach().cpu().numpy(), train_set[sel].protein_pos.detach().cpu().numpy())\n",
    "    return e\n",
    "\n",
    "\n",
    "def get_energy_based_loss():\n",
    "    ## -----------------  calculating the center of the prediction and using the original topology--------------------------------\n",
    "\n",
    "    predicted_centers = []\n",
    "    for lig in ligand_pos:\n",
    "        c = torch.mean(lig, dim=0)\n",
    "        predicted_centers.append(c)\n",
    "\n",
    "    print(\"predicted center: \", predicted_centers[0])\n",
    "    batch_protein = batch.protein_element_batch\n",
    "    ground_truth_centers = scatter_mean(batch.protein_pos, batch_protein, dim=0)\n",
    "    print(\"ground truth center: \",ground_truth_centers[0])\n",
    "\n",
    "\n",
    "    ground_truth_centers = ground_truth_centers.detach().cpu().numpy()\n",
    "    ## -----------------  calculating the center of the prediction and using the original topology--------------------------------\n",
    "\n",
    "    ## -----------------  we use predicted location for rigid docking --------------------------------\n",
    "    debug = False\n",
    "\n",
    "    global all_pose_ligand \n",
    "    global all_pose_protein\n",
    "    global all_atom_ligand \n",
    "    global all_atom_protein\n",
    "\n",
    "    all_pose_ligand = []\n",
    "    all_pose_protein = []\n",
    "    all_atom_ligand = []\n",
    "    all_atom_protein = []\n",
    "\n",
    "    for sel_pocket in range(len(batch)):\n",
    "        mov_vec = ground_truth_centers[sel_pocket] - predicted_centers[sel_pocket].detach().cpu().numpy()\n",
    "\n",
    "        pos_l, pos_p = train_set[sel_pocket].ligand_pos.detach().cpu().numpy() +  mov_vec, train_set[sel_pocket].protein_pos.detach().cpu().numpy()\n",
    "        x_l, x_p     = train_set[sel_pocket].ligand_element.detach().cpu().numpy(), train_set[sel_pocket].protein_element.detach().cpu().numpy()\n",
    "\n",
    "        all_pose_ligand.append(pos_l)\n",
    "        all_pose_protein.append(pos_p)\n",
    "\n",
    "        all_atom_ligand.append(x_l)\n",
    "        all_atom_protein.append(x_p)\n",
    "\n",
    "\n",
    "        if debug:\n",
    "            print(\"=== \")\n",
    "            print(\"predicted  center: \", np.mean(pos_l,axis=0))\n",
    "            print(\"ground truth center: \",ground_truth_centers[sel_pocket])\n",
    "            print(\"=== \")\n",
    "\n",
    "\n",
    "    pos_combined = np.concatenate((pos_l,pos_p))\n",
    "    atom_combined = np.concatenate((x_l, x_p))\n",
    "\n",
    "\n",
    "    print(\"sample protein Center\", np.mean(pos_p, axis = 0))\n",
    "    print(\"sample ligand Center\",np.mean(pos_l, axis = 0))\n",
    "\n",
    "    \n",
    "    # ===================== calculating number of feasible structure success rate =============================\n",
    "    \n",
    "    failure_counter = 0\n",
    "    for i in range(len(batch)):\n",
    "        select_pocket = i\n",
    "        e = get_energy(all_atom_ligand[select_pocket], all_pose_ligand[select_pocket], all_atom_protein[select_pocket], all_pose_protein[select_pocket])\n",
    "        # print(e)\n",
    "        if e == 1e7:\n",
    "            failure_counter +=1\n",
    "            print(\"============ infeasible structure\")\n",
    "            continue \n",
    "        pos_combined = np.concatenate((all_pose_ligand[select_pocket], all_pose_protein[select_pocket])).tolist()\n",
    "        atom_combined = np.concatenate((all_atom_ligand[select_pocket], all_atom_protein[select_pocket])).tolist()\n",
    "    \n",
    "    print(\"done\", \"success rate is: \", (len(batch) - failure_counter)/len(batch))\n",
    "    \n",
    "    # ===================== calculating number of feasible structure success rate =============================\n",
    "\n",
    "    # ===================== calculating energy for both prediction and ground truth with multiplrocessing on CPU =============================\n",
    "\n",
    "\n",
    "\n",
    "    pool_obj = multiprocessing.Pool()\n",
    "    all_energy = [] \n",
    "    ### calculate energy for prediction\n",
    "    for i in range(1):\n",
    "        k = 100*i\n",
    "        ans = pool_obj.map(gpu_func2, range(0, k+100))\n",
    "        all_energy.extend(ans)\n",
    "    print(\"energy done for prediction\")    \n",
    "    ### calculate energy for ground truth\n",
    "    all_energy_ground_truth = [] \n",
    "    for i in range(1):\n",
    "        k = 100*i\n",
    "        ans = pool_obj.map(gpu_func_ground_truth, range(0, k+100))\n",
    "        all_energy_ground_truth.extend(ans)\n",
    "    print(\"energy done for ground truth\")    \n",
    "    \n",
    "    \n",
    "    # ===================== calculating energy for both prediction and groung truth with multiplrocessing on CPU =============================\n",
    "    # ===================== get energy loss =============================\n",
    "\n",
    "    def get_energy_loss(predicted_energy, ground_truth_energy):\n",
    "        predicted_energy[ground_truth_energy==1e7] = ground_truth_energy[ground_truth_energy==1e7] # if ground truth energy is faulty lets ignore it \n",
    "        ground_truth_energy[predicted_energy==1e7] = predicted_energy[predicted_energy==1e7] # we need to change this line later\n",
    "\n",
    "        return 10*np.log(np.abs(predicted_energy - ground_truth_energy)+1)\n",
    "    \n",
    "    \n",
    "    loss = get_energy_loss(np.array(all_energy), np.array(all_energy_ground_truth))\n",
    "    \n",
    "    return loss\n",
    "    # ===================== get energy loss =============================\n",
    "\n",
    "    \n",
    "\n",
    "  \n",
    "    \n",
    "    "
   ]
  },
  {
   "cell_type": "code",
   "execution_count": 22,
   "id": "034362c9-1c0c-497c-84f0-b8fd7a36c603",
   "metadata": {},
   "outputs": [
    {
     "name": "stderr",
     "output_type": "stream",
     "text": [
      "[2024-05-03 17:02:44,135::sampling::INFO] {'seed': 2021, 'num_samples': 10, 'num_steps': 1000, 'pos_only': False, 'center_pos_mode': 'protein', 'sample_num_atoms': 'prior'}\n",
      "[2024-05-03 17:02:44,135::sampling::INFO] {'seed': 2021, 'num_samples': 10, 'num_steps': 1000, 'pos_only': False, 'center_pos_mode': 'protein', 'sample_num_atoms': 'prior'}\n",
      "[2024-05-03 17:02:44,135::sampling::INFO] {'seed': 2021, 'num_samples': 10, 'num_steps': 1000, 'pos_only': False, 'center_pos_mode': 'protein', 'sample_num_atoms': 'prior'}\n",
      "[2024-05-03 17:02:44,713::sampling::INFO] Training Config: {'data': {'name': 'pl', 'path': './data/crossdocked_v1.1_rmsd1.0_pocket10', 'split': './data/crossdocked_pocket10_pose_split.pt', 'transform': {'ligand_atom_mode': 'add_aromatic', 'random_rot': False}}, 'model': {'model_mean_type': 'C0', 'beta_schedule': 'sigmoid', 'beta_start': 1e-07, 'beta_end': 0.002, 'v_beta_schedule': 'cosine', 'v_beta_s': 0.01, 'num_diffusion_timesteps': 1000, 'loss_v_weight': 100.0, 'sample_time_method': 'symmetric', 'time_emb_dim': 0, 'time_emb_mode': 'simple', 'center_pos_mode': 'protein', 'node_indicator': True, 'model_type': 'uni_o2', 'num_blocks': 1, 'num_layers': 9, 'hidden_dim': 250, 'n_heads': 10, 'edge_feat_dim': 4, 'num_r_gaussian': 20, 'knn': 32, 'num_node_types': 8, 'act_fn': 'relu', 'norm': True, 'cutoff_mode': 'knn', 'ew_net_type': 'global', 'num_x2h': 1, 'num_h2x': 1, 'r_max': 10.0, 'x2h_out_fc': False, 'sync_twoup': False}, 'train': {'seed': 2021, 'batch_size': 4, 'num_workers': 4, 'n_acc_batch': 1, 'max_iters': 10000000, 'val_freq': 100, 'pos_noise_std': 0.1, 'max_grad_norm': 8.0, 'bond_loss_weight': 1.0, 'optimizer': {'type': 'adam', 'lr': 0.0005, 'weight_decay': 0, 'beta1': 0.95, 'beta2': 0.999}, 'scheduler': {'type': 'plateau', 'factor': 0.6, 'patience': 10, 'min_lr': 1e-06}}}\n",
      "[2024-05-03 17:02:44,713::sampling::INFO] Training Config: {'data': {'name': 'pl', 'path': './data/crossdocked_v1.1_rmsd1.0_pocket10', 'split': './data/crossdocked_pocket10_pose_split.pt', 'transform': {'ligand_atom_mode': 'add_aromatic', 'random_rot': False}}, 'model': {'model_mean_type': 'C0', 'beta_schedule': 'sigmoid', 'beta_start': 1e-07, 'beta_end': 0.002, 'v_beta_schedule': 'cosine', 'v_beta_s': 0.01, 'num_diffusion_timesteps': 1000, 'loss_v_weight': 100.0, 'sample_time_method': 'symmetric', 'time_emb_dim': 0, 'time_emb_mode': 'simple', 'center_pos_mode': 'protein', 'node_indicator': True, 'model_type': 'uni_o2', 'num_blocks': 1, 'num_layers': 9, 'hidden_dim': 250, 'n_heads': 10, 'edge_feat_dim': 4, 'num_r_gaussian': 20, 'knn': 32, 'num_node_types': 8, 'act_fn': 'relu', 'norm': True, 'cutoff_mode': 'knn', 'ew_net_type': 'global', 'num_x2h': 1, 'num_h2x': 1, 'r_max': 10.0, 'x2h_out_fc': False, 'sync_twoup': False}, 'train': {'seed': 2021, 'batch_size': 4, 'num_workers': 4, 'n_acc_batch': 1, 'max_iters': 10000000, 'val_freq': 100, 'pos_noise_std': 0.1, 'max_grad_norm': 8.0, 'bond_loss_weight': 1.0, 'optimizer': {'type': 'adam', 'lr': 0.0005, 'weight_decay': 0, 'beta1': 0.95, 'beta2': 0.999}, 'scheduler': {'type': 'plateau', 'factor': 0.6, 'patience': 10, 'min_lr': 1e-06}}}\n",
      "[2024-05-03 17:02:44,713::sampling::INFO] Training Config: {'data': {'name': 'pl', 'path': './data/crossdocked_v1.1_rmsd1.0_pocket10', 'split': './data/crossdocked_pocket10_pose_split.pt', 'transform': {'ligand_atom_mode': 'add_aromatic', 'random_rot': False}}, 'model': {'model_mean_type': 'C0', 'beta_schedule': 'sigmoid', 'beta_start': 1e-07, 'beta_end': 0.002, 'v_beta_schedule': 'cosine', 'v_beta_s': 0.01, 'num_diffusion_timesteps': 1000, 'loss_v_weight': 100.0, 'sample_time_method': 'symmetric', 'time_emb_dim': 0, 'time_emb_mode': 'simple', 'center_pos_mode': 'protein', 'node_indicator': True, 'model_type': 'uni_o2', 'num_blocks': 1, 'num_layers': 9, 'hidden_dim': 250, 'n_heads': 10, 'edge_feat_dim': 4, 'num_r_gaussian': 20, 'knn': 32, 'num_node_types': 8, 'act_fn': 'relu', 'norm': True, 'cutoff_mode': 'knn', 'ew_net_type': 'global', 'num_x2h': 1, 'num_h2x': 1, 'r_max': 10.0, 'x2h_out_fc': False, 'sync_twoup': False}, 'train': {'seed': 2021, 'batch_size': 4, 'num_workers': 4, 'n_acc_batch': 1, 'max_iters': 10000000, 'val_freq': 100, 'pos_noise_std': 0.1, 'max_grad_norm': 8.0, 'bond_loss_weight': 1.0, 'optimizer': {'type': 'adam', 'lr': 0.0005, 'weight_decay': 0, 'beta1': 0.95, 'beta2': 0.999}, 'scheduler': {'type': 'plateau', 'factor': 0.6, 'patience': 10, 'min_lr': 1e-06}}}\n",
      "[2024-05-03 17:02:44,735::sampling::INFO] Successfully load the dataset (size: 100)!\n",
      "[2024-05-03 17:02:44,735::sampling::INFO] Successfully load the dataset (size: 100)!\n",
      "[2024-05-03 17:02:44,735::sampling::INFO] Successfully load the dataset (size: 100)!\n"
     ]
    },
    {
     "name": "stdout",
     "output_type": "stream",
     "text": [
      "ProteinLigandData(protein_element=[422], protein_molecule_name='pocket', protein_pos=[422, 3], protein_is_backbone=[422], protein_atom_name=[422], protein_atom_to_aa_type=[422], ligand_smiles='COc1cc(C(C)(C)C#Cc2c(C)nc(N)nc2N)cc(OC)c1OC', ligand_element=[26], ligand_pos=[26, 3], ligand_bond_index=[2, 54], ligand_bond_type=[54], ligand_center_of_mass=[3], ligand_atom_feature=[26, 8], ligand_hybridization=[26], protein_filename='DYR_STAAU_2_158_0/4xe6_X_rec_3fqc_55v_lig_tt_docked_4_pocket10.pdb', ligand_filename='DYR_STAAU_2_158_0/4xe6_X_rec_3fqc_55v_lig_tt_docked_4.sdf', id=[1], protein_atom_feature=[422, 27], ligand_atom_feature_full=[26], ligand_bond_feature=[54, 5])\n"
     ]
    },
    {
     "name": "stderr",
     "output_type": "stream",
     "text": [
      "[2024-05-03 17:02:46,233::sampling::INFO] Successfully load the model! /scratch/user/alighazi/bioprj/LDM-3DG/test3/AE_geom_cond_weights_and_data/weight_ae.pt\n",
      "[2024-05-03 17:02:46,233::sampling::INFO] Successfully load the model! /scratch/user/alighazi/bioprj/LDM-3DG/test3/AE_geom_cond_weights_and_data/weight_ae.pt\n",
      "[2024-05-03 17:02:46,233::sampling::INFO] Successfully load the model! /scratch/user/alighazi/bioprj/LDM-3DG/test3/AE_geom_cond_weights_and_data/weight_ae.pt\n"
     ]
    }
   ],
   "source": [
    "import argparse\n",
    "import os\n",
    "import shutil\n",
    "\n",
    "import numpy as np\n",
    "import torch\n",
    "import torch.utils.tensorboard\n",
    "from sklearn.metrics import roc_auc_score\n",
    "from torch.nn.utils import clip_grad_norm_\n",
    "from torch_geometric.loader import DataLoader\n",
    "from torch_geometric.transforms import Compose\n",
    "from tqdm.auto import tqdm\n",
    "\n",
    "import utils.misc as misc\n",
    "import utils.train as utils_train\n",
    "import utils.transforms as trans\n",
    "from datasets import get_dataset\n",
    "from datasets.pl_data import FOLLOW_BATCH\n",
    "from models.molopt_score_model import ScorePosNet3D\n",
    "import pdb\n",
    "\n",
    "# if __name__ == '__main__':\n",
    "parser = argparse.ArgumentParser()\n",
    "parser.add_argument('config', type=str)\n",
    "# parser.add_argument('-i', '--data_id', type=int)\n",
    "parser.add_argument('--device', type=str, default='cuda:0')\n",
    "parser.add_argument('--batch_size', type=int, default=100)\n",
    "parser.add_argument('--result_path', type=str, default='./outputs')\n",
    "parser.add_argument('--data_id', type=int, default=0)\n",
    "args, unknown = parser.parse_known_args()\n",
    "\n",
    "logger = misc.get_logger('sampling')\n",
    "\n",
    "# Load config\n",
    "\n",
    "config = misc.load_config(\"/scratch/user/alighazi/bioprj/LDM-3DG/mycode/AE_Geometry_and_Conditional_Latent_Diffusion/configs/sampling.yml\")\n",
    "# print(args.config)\n",
    "\n",
    "logger.info(config.sample)\n",
    "misc.seed_all(config.sample.seed)\n",
    "\n",
    "# Load checkpoint\n",
    "ckpt = torch.load(config.model.checkpoint, map_location=args.device)\n",
    "logger.info(f\"Training Config: {ckpt['config']}\")\n",
    "# Transforms\n",
    "protein_featurizer = trans.FeaturizeProteinAtom()\n",
    "ligand_atom_mode = ckpt['config'].data.transform.ligand_atom_mode\n",
    "ligand_featurizer = trans.FeaturizeLigandAtom(ligand_atom_mode)\n",
    "transform = Compose([\n",
    "    protein_featurizer,\n",
    "    ligand_featurizer,\n",
    "    trans.FeaturizeLigandBond(),\n",
    "])\n",
    "\n",
    "# Load dataset\n",
    "dataset, subsets = get_dataset(\n",
    "    config=ckpt['config'].data,\n",
    "    transform=transform\n",
    ")\n",
    "train_set, test_set = subsets['train'], subsets['test']\n",
    "logger.info(f'Successfully load the dataset (size: {len(test_set)})!')\n",
    "\n",
    "\n",
    "collate_exclude_keys = ['ligand_nbh_list']\n",
    "train_iterator = utils_train.inf_iterator(DataLoader(\n",
    "        train_set,\n",
    "        batch_size=100,\n",
    "        shuffle=False,\n",
    "        num_workers=1,\n",
    "        follow_batch=FOLLOW_BATCH,\n",
    "        exclude_keys=collate_exclude_keys\n",
    "    ))\n",
    "\n",
    "\n",
    "###------------- loading embeding and first batch\n",
    "batch = next(train_iterator).to(args.device)\n",
    "emb3d = torch.load(\"emb3d.pt\")    \n",
    "\n",
    "print(batch[0])\n",
    "\n",
    "model = ScorePosNet3D(\n",
    "        ckpt['config'].model,\n",
    "        protein_atom_feature_dim=protein_featurizer.feature_dim,\n",
    "        ligand_atom_feature_dim=ligand_featurizer.feature_dim\n",
    "        ).to(args.device)\n",
    "model.load_state_dict(ckpt['model'])\n",
    "logger.info(f'Successfully load the model! {config.model.checkpoint}')\n",
    "\n"
   ]
  },
  {
   "cell_type": "code",
   "execution_count": 23,
   "id": "e722c16a-e03d-48f2-890f-09791f3cba32",
   "metadata": {
    "tags": []
   },
   "outputs": [
    {
     "data": {
      "application/vnd.jupyter.widget-view+json": {
       "model_id": "5c59048ffdd245b19719d4b676388b9e",
       "version_major": 2,
       "version_minor": 0
      },
      "text/plain": [
       "sampling:   0%|          | 0/20 [00:00<?, ?it/s]"
      ]
     },
     "metadata": {},
     "output_type": "display_data"
    }
   ],
   "source": [
    "###------------- loading embeding and giving first batch to decoder----------\n",
    "\n",
    "r = decoder(model, batch, emb3d)\n",
    "ligand_pos, ligand_atom = recover_pos(batch, r)\n",
    "\n"
   ]
  },
  {
   "cell_type": "code",
   "execution_count": 26,
   "id": "bfcf0342-cf3a-4dba-9fa0-9f1e8ea3bf8f",
   "metadata": {
    "scrolled": true,
    "tags": []
   },
   "outputs": [
    {
     "data": {
      "application/vnd.jupyter.widget-view+json": {
       "model_id": "f1e523a3d9444913afc6371096cd1158",
       "version_major": 2,
       "version_minor": 0
      },
      "text/plain": [
       "sampling:   0%|          | 0/20 [00:00<?, ?it/s]"
      ]
     },
     "metadata": {},
     "output_type": "display_data"
    },
    {
     "name": "stdout",
     "output_type": "stream",
     "text": [
      "predicted center:  tensor([ -4.0634, -29.5356,   4.9051], device='cuda:0')\n",
      "ground truth center:  tensor([ -4.1589, -29.8004,   4.7721], device='cuda:0')\n",
      "sample protein Center [24.416315 39.6081   18.66123 ]\n",
      "sample ligand Center [23.22268  39.280384 16.386496]\n",
      "done success rate is:  1.0\n",
      "energy done for prediction\n",
      "energy done for ground truth\n",
      "epoch 0,  loss: 54.559\n"
     ]
    },
    {
     "data": {
      "application/vnd.jupyter.widget-view+json": {
       "model_id": "cce79310ee9045bdb1d06c69f2239bcb",
       "version_major": 2,
       "version_minor": 0
      },
      "text/plain": [
       "sampling:   0%|          | 0/20 [00:00<?, ?it/s]"
      ]
     },
     "metadata": {},
     "output_type": "display_data"
    },
    {
     "name": "stdout",
     "output_type": "stream",
     "text": [
      "predicted center:  tensor([ -4.1556, -30.0895,   4.6989], device='cuda:0')\n",
      "ground truth center:  tensor([ -4.1589, -29.8004,   4.7721], device='cuda:0')\n",
      "sample protein Center [24.416315 39.6081   18.66123 ]\n",
      "sample ligand Center [22.90437  39.91513  16.235458]\n",
      "done success rate is:  1.0\n",
      "energy done for prediction\n",
      "energy done for ground truth\n",
      "epoch 1,  loss: 0.043\n"
     ]
    },
    {
     "data": {
      "application/vnd.jupyter.widget-view+json": {
       "model_id": "fc19fad757fc4b589f8e9576550d384e",
       "version_major": 2,
       "version_minor": 0
      },
      "text/plain": [
       "sampling:   0%|          | 0/20 [00:00<?, ?it/s]"
      ]
     },
     "metadata": {},
     "output_type": "display_data"
    },
    {
     "name": "stdout",
     "output_type": "stream",
     "text": [
      "predicted center:  tensor([ -4.0095, -29.6940,   4.9267], device='cuda:0')\n",
      "ground truth center:  tensor([ -4.1589, -29.8004,   4.7721], device='cuda:0')\n",
      "sample protein Center [24.416315 39.6081   18.66123 ]\n",
      "sample ligand Center [23.172935 39.37149  16.379013]\n",
      "done success rate is:  1.0\n",
      "energy done for prediction\n",
      "energy done for ground truth\n",
      "epoch 2,  loss: 0.039\n"
     ]
    },
    {
     "data": {
      "application/vnd.jupyter.widget-view+json": {
       "model_id": "2a54dc1bf5ba4bd5af83324ca5a8892f",
       "version_major": 2,
       "version_minor": 0
      },
      "text/plain": [
       "sampling:   0%|          | 0/20 [00:00<?, ?it/s]"
      ]
     },
     "metadata": {},
     "output_type": "display_data"
    },
    {
     "name": "stdout",
     "output_type": "stream",
     "text": [
      "predicted center:  tensor([ -4.0665, -30.0093,   4.8875], device='cuda:0')\n",
      "ground truth center:  tensor([ -4.1589, -29.8004,   4.7721], device='cuda:0')\n",
      "sample protein Center [24.416315 39.6081   18.66123 ]\n",
      "sample ligand Center [23.661045 39.881233 17.063036]\n",
      "done success rate is:  1.0\n",
      "energy done for prediction\n",
      "energy done for ground truth\n",
      "epoch 3,  loss: 44.284\n"
     ]
    },
    {
     "data": {
      "application/vnd.jupyter.widget-view+json": {
       "model_id": "cd00d2c65824451ea5b034724ccb4318",
       "version_major": 2,
       "version_minor": 0
      },
      "text/plain": [
       "sampling:   0%|          | 0/20 [00:00<?, ?it/s]"
      ]
     },
     "metadata": {},
     "output_type": "display_data"
    },
    {
     "name": "stdout",
     "output_type": "stream",
     "text": [
      "predicted center:  tensor([ -4.2212, -29.5240,   4.5640], device='cuda:0')\n",
      "ground truth center:  tensor([ -4.1589, -29.8004,   4.7721], device='cuda:0')\n",
      "sample protein Center [24.416315 39.6081   18.66123 ]\n",
      "sample ligand Center [23.59351 39.02177 16.40344]\n",
      "done success rate is:  1.0\n",
      "energy done for prediction\n",
      "energy done for ground truth\n",
      "epoch 4,  loss: 99.120\n"
     ]
    },
    {
     "data": {
      "application/vnd.jupyter.widget-view+json": {
       "model_id": "6be573e38862408caa5e3b9e55397b50",
       "version_major": 2,
       "version_minor": 0
      },
      "text/plain": [
       "sampling:   0%|          | 0/20 [00:00<?, ?it/s]"
      ]
     },
     "metadata": {},
     "output_type": "display_data"
    },
    {
     "name": "stdout",
     "output_type": "stream",
     "text": [
      "predicted center:  tensor([ -4.0444, -29.7977,   4.7521], device='cuda:0')\n",
      "ground truth center:  tensor([ -4.1589, -29.8004,   4.7721], device='cuda:0')\n",
      "sample protein Center [24.416315 39.6081   18.66123 ]\n",
      "sample ligand Center [23.426945 39.496124 16.861305]\n",
      "done success rate is:  1.0\n",
      "energy done for prediction\n",
      "energy done for ground truth\n",
      "epoch 5,  loss: 45.085\n"
     ]
    },
    {
     "data": {
      "application/vnd.jupyter.widget-view+json": {
       "model_id": "60d4b1e27b1f4ce29e4108db1ef30005",
       "version_major": 2,
       "version_minor": 0
      },
      "text/plain": [
       "sampling:   0%|          | 0/20 [00:00<?, ?it/s]"
      ]
     },
     "metadata": {},
     "output_type": "display_data"
    },
    {
     "name": "stdout",
     "output_type": "stream",
     "text": [
      "predicted center:  tensor([ -4.1562, -29.6436,   4.4960], device='cuda:0')\n",
      "ground truth center:  tensor([ -4.1589, -29.8004,   4.7721], device='cuda:0')\n",
      "sample protein Center [24.416315 39.6081   18.66123 ]\n",
      "sample ligand Center [23.252434 39.14969  16.972443]\n",
      "done success rate is:  1.0\n",
      "energy done for prediction\n",
      "energy done for ground truth\n",
      "epoch 6,  loss: 0.022\n"
     ]
    },
    {
     "data": {
      "application/vnd.jupyter.widget-view+json": {
       "model_id": "a359528860294206b4583e62a82becac",
       "version_major": 2,
       "version_minor": 0
      },
      "text/plain": [
       "sampling:   0%|          | 0/20 [00:00<?, ?it/s]"
      ]
     },
     "metadata": {},
     "output_type": "display_data"
    },
    {
     "name": "stdout",
     "output_type": "stream",
     "text": [
      "predicted center:  tensor([ -4.3354, -30.1298,   4.6853], device='cuda:0')\n",
      "ground truth center:  tensor([ -4.1589, -29.8004,   4.7721], device='cuda:0')\n",
      "sample protein Center [24.416315 39.6081   18.66123 ]\n",
      "sample ligand Center [22.873465 39.846733 16.59147 ]\n",
      "done success rate is:  1.0\n",
      "energy done for prediction\n",
      "energy done for ground truth\n",
      "epoch 7,  loss: 105.902\n"
     ]
    },
    {
     "data": {
      "application/vnd.jupyter.widget-view+json": {
       "model_id": "11018dde2888442c83eff225e5b9dbd2",
       "version_major": 2,
       "version_minor": 0
      },
      "text/plain": [
       "sampling:   0%|          | 0/20 [00:00<?, ?it/s]"
      ]
     },
     "metadata": {},
     "output_type": "display_data"
    },
    {
     "name": "stdout",
     "output_type": "stream",
     "text": [
      "predicted center:  tensor([ -3.9299, -29.7875,   5.3641], device='cuda:0')\n",
      "ground truth center:  tensor([ -4.1589, -29.8004,   4.7721], device='cuda:0')\n",
      "sample protein Center [24.416315 39.6081   18.66123 ]\n",
      "sample ligand Center [23.562056 39.309593 16.33636 ]\n",
      "done success rate is:  1.0\n",
      "energy done for prediction\n",
      "energy done for ground truth\n",
      "epoch 8,  loss: 56.800\n"
     ]
    },
    {
     "data": {
      "application/vnd.jupyter.widget-view+json": {
       "model_id": "89a5be71cfac4f8e9d4183dec55d6344",
       "version_major": 2,
       "version_minor": 0
      },
      "text/plain": [
       "sampling:   0%|          | 0/20 [00:00<?, ?it/s]"
      ]
     },
     "metadata": {},
     "output_type": "display_data"
    },
    {
     "name": "stdout",
     "output_type": "stream",
     "text": [
      "predicted center:  tensor([ -3.8349, -29.6842,   4.7377], device='cuda:0')\n",
      "ground truth center:  tensor([ -4.1589, -29.8004,   4.7721], device='cuda:0')\n",
      "sample protein Center [24.416315 39.6081   18.66123 ]\n",
      "sample ligand Center [23.656109 39.427418 17.030886]\n",
      "done success rate is:  1.0\n",
      "energy done for prediction\n",
      "energy done for ground truth\n",
      "epoch 9,  loss: 44.623\n"
     ]
    },
    {
     "data": {
      "application/vnd.jupyter.widget-view+json": {
       "model_id": "e3fe6f72ed2141359cc01d4659a262b8",
       "version_major": 2,
       "version_minor": 0
      },
      "text/plain": [
       "sampling:   0%|          | 0/20 [00:00<?, ?it/s]"
      ]
     },
     "metadata": {},
     "output_type": "display_data"
    },
    {
     "name": "stdout",
     "output_type": "stream",
     "text": [
      "predicted center:  tensor([ -4.3321, -29.8776,   4.8201], device='cuda:0')\n",
      "ground truth center:  tensor([ -4.1589, -29.8004,   4.7721], device='cuda:0')\n",
      "sample protein Center [24.416315 39.6081   18.66123 ]\n",
      "sample ligand Center [23.132732 39.09983  16.92799 ]\n",
      "done success rate is:  1.0\n",
      "energy done for prediction\n",
      "energy done for ground truth\n",
      "epoch 10,  loss: 0.029\n"
     ]
    },
    {
     "data": {
      "application/vnd.jupyter.widget-view+json": {
       "model_id": "51aa5e1f4af0467ea8a574e5ed1b26aa",
       "version_major": 2,
       "version_minor": 0
      },
      "text/plain": [
       "sampling:   0%|          | 0/20 [00:00<?, ?it/s]"
      ]
     },
     "metadata": {},
     "output_type": "display_data"
    },
    {
     "name": "stdout",
     "output_type": "stream",
     "text": [
      "predicted center:  tensor([ -4.0871, -30.0591,   4.7693], device='cuda:0')\n",
      "ground truth center:  tensor([ -4.1589, -29.8004,   4.7721], device='cuda:0')\n",
      "sample protein Center [24.416315 39.6081   18.66123 ]\n",
      "sample ligand Center [23.601933 39.721485 16.786346]\n",
      "done success rate is:  1.0\n",
      "energy done for prediction\n",
      "energy done for ground truth\n",
      "epoch 11,  loss: 48.469\n"
     ]
    },
    {
     "data": {
      "application/vnd.jupyter.widget-view+json": {
       "model_id": "a0e86f1fca6b4611ae6cff8142ba8efa",
       "version_major": 2,
       "version_minor": 0
      },
      "text/plain": [
       "sampling:   0%|          | 0/20 [00:00<?, ?it/s]"
      ]
     },
     "metadata": {},
     "output_type": "display_data"
    },
    {
     "name": "stdout",
     "output_type": "stream",
     "text": [
      "predicted center:  tensor([ -4.2178, -30.0719,   4.9506], device='cuda:0')\n",
      "ground truth center:  tensor([ -4.1589, -29.8004,   4.7721], device='cuda:0')\n",
      "sample protein Center [24.416315 39.6081   18.66123 ]\n",
      "sample ligand Center [23.257286 39.489967 16.7286  ]\n",
      "done success rate is:  1.0\n",
      "energy done for prediction\n",
      "energy done for ground truth\n",
      "epoch 12,  loss: 0.036\n"
     ]
    },
    {
     "data": {
      "application/vnd.jupyter.widget-view+json": {
       "model_id": "161e71ec38c6456c9bd84c9f95cb71e8",
       "version_major": 2,
       "version_minor": 0
      },
      "text/plain": [
       "sampling:   0%|          | 0/20 [00:00<?, ?it/s]"
      ]
     },
     "metadata": {},
     "output_type": "display_data"
    },
    {
     "name": "stdout",
     "output_type": "stream",
     "text": [
      "predicted center:  tensor([ -4.0520, -30.1952,   4.6938], device='cuda:0')\n",
      "ground truth center:  tensor([ -4.1589, -29.8004,   4.7721], device='cuda:0')\n",
      "sample protein Center [24.416315 39.6081   18.66123 ]\n",
      "sample ligand Center [23.468527 39.372322 16.559238]\n",
      "done success rate is:  1.0\n",
      "energy done for prediction\n",
      "energy done for ground truth\n",
      "epoch 13,  loss: 0.029\n"
     ]
    },
    {
     "data": {
      "application/vnd.jupyter.widget-view+json": {
       "model_id": "a8bbfeb9d3c74fae8a2db53175e3992d",
       "version_major": 2,
       "version_minor": 0
      },
      "text/plain": [
       "sampling:   0%|          | 0/20 [00:00<?, ?it/s]"
      ]
     },
     "metadata": {},
     "output_type": "display_data"
    },
    {
     "name": "stdout",
     "output_type": "stream",
     "text": [
      "predicted center:  tensor([ -4.3451, -29.9775,   4.5264], device='cuda:0')\n",
      "ground truth center:  tensor([ -4.1589, -29.8004,   4.7721], device='cuda:0')\n",
      "sample protein Center [24.416315 39.6081   18.66123 ]\n",
      "sample ligand Center [23.224752 39.145466 16.280457]\n",
      "done success rate is:  1.0\n",
      "energy done for prediction\n",
      "energy done for ground truth\n",
      "epoch 14,  loss: 0.031\n"
     ]
    },
    {
     "data": {
      "application/vnd.jupyter.widget-view+json": {
       "model_id": "4e46b46986c446a19b3e4182ba5f4c56",
       "version_major": 2,
       "version_minor": 0
      },
      "text/plain": [
       "sampling:   0%|          | 0/20 [00:00<?, ?it/s]"
      ]
     },
     "metadata": {},
     "output_type": "display_data"
    },
    {
     "name": "stdout",
     "output_type": "stream",
     "text": [
      "predicted center:  tensor([ -4.3400, -29.4205,   4.7225], device='cuda:0')\n",
      "ground truth center:  tensor([ -4.1589, -29.8004,   4.7721], device='cuda:0')\n",
      "sample protein Center [24.416315 39.6081   18.66123 ]\n",
      "sample ligand Center [23.618208 38.95607  16.731712]\n",
      "done success rate is:  1.0\n",
      "energy done for prediction\n",
      "energy done for ground truth\n",
      "epoch 15,  loss: 53.545\n"
     ]
    },
    {
     "data": {
      "application/vnd.jupyter.widget-view+json": {
       "model_id": "ec93fe42d3e144b2ad904c881e766a21",
       "version_major": 2,
       "version_minor": 0
      },
      "text/plain": [
       "sampling:   0%|          | 0/20 [00:00<?, ?it/s]"
      ]
     },
     "metadata": {},
     "output_type": "display_data"
    },
    {
     "name": "stdout",
     "output_type": "stream",
     "text": [
      "predicted center:  tensor([ -4.1478, -30.0242,   4.7222], device='cuda:0')\n",
      "ground truth center:  tensor([ -4.1589, -29.8004,   4.7721], device='cuda:0')\n",
      "sample protein Center [24.416315 39.6081   18.66123 ]\n",
      "sample ligand Center [23.535961 39.667786 17.000515]\n",
      "done success rate is:  1.0\n",
      "energy done for prediction\n",
      "energy done for ground truth\n",
      "epoch 16,  loss: 56.701\n"
     ]
    },
    {
     "data": {
      "application/vnd.jupyter.widget-view+json": {
       "model_id": "89a7cfa1e50341a794a5d8ecfead1699",
       "version_major": 2,
       "version_minor": 0
      },
      "text/plain": [
       "sampling:   0%|          | 0/20 [00:00<?, ?it/s]"
      ]
     },
     "metadata": {},
     "output_type": "display_data"
    },
    {
     "name": "stdout",
     "output_type": "stream",
     "text": [
      "predicted center:  tensor([ -3.7929, -30.0788,   4.8482], device='cuda:0')\n",
      "ground truth center:  tensor([ -4.1589, -29.8004,   4.7721], device='cuda:0')\n",
      "sample protein Center [24.416315 39.6081   18.66123 ]\n",
      "sample ligand Center [23.897861 39.234882 16.495474]\n",
      "done success rate is:  1.0\n",
      "energy done for prediction\n",
      "energy done for ground truth\n",
      "epoch 17,  loss: 52.935\n"
     ]
    },
    {
     "data": {
      "application/vnd.jupyter.widget-view+json": {
       "model_id": "9f04acf83e6c44ef8fe10f655c160002",
       "version_major": 2,
       "version_minor": 0
      },
      "text/plain": [
       "sampling:   0%|          | 0/20 [00:00<?, ?it/s]"
      ]
     },
     "metadata": {},
     "output_type": "display_data"
    },
    {
     "name": "stdout",
     "output_type": "stream",
     "text": [
      "predicted center:  tensor([ -4.2269, -29.9937,   4.6187], device='cuda:0')\n",
      "ground truth center:  tensor([ -4.1589, -29.8004,   4.7721], device='cuda:0')\n",
      "sample protein Center [24.416315 39.6081   18.66123 ]\n",
      "sample ligand Center [23.99924  39.36409  17.140404]\n",
      "done success rate is:  1.0\n",
      "energy done for prediction\n",
      "energy done for ground truth\n",
      "epoch 18,  loss: 98.815\n"
     ]
    },
    {
     "data": {
      "application/vnd.jupyter.widget-view+json": {
       "model_id": "91d29239bd7b41d9b222d798c64995bd",
       "version_major": 2,
       "version_minor": 0
      },
      "text/plain": [
       "sampling:   0%|          | 0/20 [00:00<?, ?it/s]"
      ]
     },
     "metadata": {},
     "output_type": "display_data"
    },
    {
     "name": "stdout",
     "output_type": "stream",
     "text": [
      "predicted center:  tensor([ -4.2877, -29.9985,   4.4997], device='cuda:0')\n",
      "ground truth center:  tensor([ -4.1589, -29.8004,   4.7721], device='cuda:0')\n",
      "sample protein Center [24.416315 39.6081   18.66123 ]\n",
      "sample ligand Center [22.708235 38.99716  16.564314]\n",
      "done success rate is:  1.0\n",
      "energy done for prediction\n",
      "energy done for ground truth\n",
      "epoch 19,  loss: 54.711\n"
     ]
    },
    {
     "data": {
      "application/vnd.jupyter.widget-view+json": {
       "model_id": "086fc73fe6a543a6aaccf4c47268391b",
       "version_major": 2,
       "version_minor": 0
      },
      "text/plain": [
       "sampling:   0%|          | 0/20 [00:00<?, ?it/s]"
      ]
     },
     "metadata": {},
     "output_type": "display_data"
    },
    {
     "name": "stdout",
     "output_type": "stream",
     "text": [
      "predicted center:  tensor([ -4.2978, -30.0117,   4.8949], device='cuda:0')\n",
      "ground truth center:  tensor([ -4.1589, -29.8004,   4.7721], device='cuda:0')\n",
      "sample protein Center [24.416315 39.6081   18.66123 ]\n",
      "sample ligand Center [23.833088 38.874626 16.785355]\n",
      "done success rate is:  1.0\n",
      "energy done for prediction\n",
      "energy done for ground truth\n",
      "epoch 20,  loss: 51.839\n"
     ]
    },
    {
     "data": {
      "application/vnd.jupyter.widget-view+json": {
       "model_id": "30a2932015704bb296b8add531262700",
       "version_major": 2,
       "version_minor": 0
      },
      "text/plain": [
       "sampling:   0%|          | 0/20 [00:00<?, ?it/s]"
      ]
     },
     "metadata": {},
     "output_type": "display_data"
    },
    {
     "name": "stdout",
     "output_type": "stream",
     "text": [
      "predicted center:  tensor([ -4.3630, -29.8347,   4.6995], device='cuda:0')\n",
      "ground truth center:  tensor([ -4.1589, -29.8004,   4.7721], device='cuda:0')\n",
      "sample protein Center [24.416315 39.6081   18.66123 ]\n",
      "sample ligand Center [23.41756  39.630535 16.80202 ]\n",
      "done success rate is:  1.0\n",
      "energy done for prediction\n",
      "energy done for ground truth\n",
      "epoch 21,  loss: 103.359\n"
     ]
    },
    {
     "data": {
      "application/vnd.jupyter.widget-view+json": {
       "model_id": "c51e1bf6852f45b58dce6cd7eb0d917c",
       "version_major": 2,
       "version_minor": 0
      },
      "text/plain": [
       "sampling:   0%|          | 0/20 [00:00<?, ?it/s]"
      ]
     },
     "metadata": {},
     "output_type": "display_data"
    },
    {
     "name": "stdout",
     "output_type": "stream",
     "text": [
      "predicted center:  tensor([ -4.4028, -29.7867,   4.6801], device='cuda:0')\n",
      "ground truth center:  tensor([ -4.1589, -29.8004,   4.7721], device='cuda:0')\n",
      "sample protein Center [24.416315 39.6081   18.66123 ]\n",
      "sample ligand Center [23.53088  39.040703 17.155787]\n",
      "done success rate is:  1.0\n",
      "energy done for prediction\n",
      "energy done for ground truth\n",
      "epoch 22,  loss: 0.038\n"
     ]
    },
    {
     "data": {
      "application/vnd.jupyter.widget-view+json": {
       "model_id": "da4e87f56b8344809dafa56eea99a40c",
       "version_major": 2,
       "version_minor": 0
      },
      "text/plain": [
       "sampling:   0%|          | 0/20 [00:00<?, ?it/s]"
      ]
     },
     "metadata": {},
     "output_type": "display_data"
    },
    {
     "name": "stdout",
     "output_type": "stream",
     "text": [
      "predicted center:  tensor([ -4.3446, -29.9541,   4.8633], device='cuda:0')\n",
      "ground truth center:  tensor([ -4.1589, -29.8004,   4.7721], device='cuda:0')\n",
      "sample protein Center [24.416315 39.6081   18.66123 ]\n",
      "sample ligand Center [23.980366 39.755547 16.587826]\n",
      "============ infeasible structure\n",
      "done success rate is:  0.99\n",
      "energy done for prediction\n",
      "energy done for ground truth\n",
      "epoch 23,  loss: 44.234\n"
     ]
    },
    {
     "data": {
      "application/vnd.jupyter.widget-view+json": {
       "model_id": "e43b7ce47dd4452a9e2120aa1b69f100",
       "version_major": 2,
       "version_minor": 0
      },
      "text/plain": [
       "sampling:   0%|          | 0/20 [00:00<?, ?it/s]"
      ]
     },
     "metadata": {},
     "output_type": "display_data"
    },
    {
     "name": "stdout",
     "output_type": "stream",
     "text": [
      "predicted center:  tensor([ -3.8546, -29.7429,   4.4215], device='cuda:0')\n",
      "ground truth center:  tensor([ -4.1589, -29.8004,   4.7721], device='cuda:0')\n",
      "sample protein Center [24.416315 39.6081   18.66123 ]\n",
      "sample ligand Center [23.733917 39.680347 16.725275]\n",
      "done success rate is:  1.0\n",
      "energy done for prediction\n",
      "energy done for ground truth\n",
      "epoch 24,  loss: 0.043\n"
     ]
    },
    {
     "data": {
      "application/vnd.jupyter.widget-view+json": {
       "model_id": "e588174179d14cd9a66c68d4a25d258b",
       "version_major": 2,
       "version_minor": 0
      },
      "text/plain": [
       "sampling:   0%|          | 0/20 [00:00<?, ?it/s]"
      ]
     },
     "metadata": {},
     "output_type": "display_data"
    },
    {
     "name": "stdout",
     "output_type": "stream",
     "text": [
      "predicted center:  tensor([ -4.2272, -30.0058,   4.9233], device='cuda:0')\n",
      "ground truth center:  tensor([ -4.1589, -29.8004,   4.7721], device='cuda:0')\n",
      "sample protein Center [24.416315 39.6081   18.66123 ]\n",
      "sample ligand Center [23.743134 39.039955 17.014786]\n",
      "done success rate is:  1.0\n",
      "energy done for prediction\n",
      "energy done for ground truth\n",
      "epoch 25,  loss: 45.823\n"
     ]
    },
    {
     "data": {
      "application/vnd.jupyter.widget-view+json": {
       "model_id": "f99a651b608a42d78f659d46571ce8c8",
       "version_major": 2,
       "version_minor": 0
      },
      "text/plain": [
       "sampling:   0%|          | 0/20 [00:00<?, ?it/s]"
      ]
     },
     "metadata": {},
     "output_type": "display_data"
    },
    {
     "name": "stdout",
     "output_type": "stream",
     "text": [
      "predicted center:  tensor([ -3.9151, -30.0160,   4.7545], device='cuda:0')\n",
      "ground truth center:  tensor([ -4.1589, -29.8004,   4.7721], device='cuda:0')\n",
      "sample protein Center [24.416315 39.6081   18.66123 ]\n",
      "sample ligand Center [23.594448 39.602192 16.592628]\n",
      "done success rate is:  1.0\n",
      "energy done for prediction\n",
      "energy done for ground truth\n",
      "epoch 26,  loss: 0.025\n"
     ]
    },
    {
     "data": {
      "application/vnd.jupyter.widget-view+json": {
       "model_id": "629951bf644e4b18818830320dcfcc64",
       "version_major": 2,
       "version_minor": 0
      },
      "text/plain": [
       "sampling:   0%|          | 0/20 [00:00<?, ?it/s]"
      ]
     },
     "metadata": {},
     "output_type": "display_data"
    },
    {
     "name": "stdout",
     "output_type": "stream",
     "text": [
      "predicted center:  tensor([ -3.9922, -29.6317,   4.9489], device='cuda:0')\n",
      "ground truth center:  tensor([ -4.1589, -29.8004,   4.7721], device='cuda:0')\n",
      "sample protein Center [24.416315 39.6081   18.66123 ]\n",
      "sample ligand Center [23.76347  39.485672 16.83828 ]\n",
      "done success rate is:  1.0\n",
      "energy done for prediction\n",
      "energy done for ground truth\n",
      "epoch 27,  loss: 53.806\n"
     ]
    },
    {
     "data": {
      "application/vnd.jupyter.widget-view+json": {
       "model_id": "891eee6dda8e47deb6be52ba5da0d769",
       "version_major": 2,
       "version_minor": 0
      },
      "text/plain": [
       "sampling:   0%|          | 0/20 [00:00<?, ?it/s]"
      ]
     },
     "metadata": {},
     "output_type": "display_data"
    },
    {
     "name": "stdout",
     "output_type": "stream",
     "text": [
      "predicted center:  tensor([ -4.0368, -30.0408,   4.9721], device='cuda:0')\n",
      "ground truth center:  tensor([ -4.1589, -29.8004,   4.7721], device='cuda:0')\n",
      "sample protein Center [24.416315 39.6081   18.66123 ]\n",
      "sample ligand Center [23.996258 39.77349  16.854095]\n",
      "============ infeasible structure\n",
      "done success rate is:  0.99\n",
      "energy done for prediction\n",
      "energy done for ground truth\n",
      "epoch 28,  loss: 0.036\n"
     ]
    },
    {
     "data": {
      "application/vnd.jupyter.widget-view+json": {
       "model_id": "ad26f7dc15a54ff0b2072e2dbc4d1e2d",
       "version_major": 2,
       "version_minor": 0
      },
      "text/plain": [
       "sampling:   0%|          | 0/20 [00:00<?, ?it/s]"
      ]
     },
     "metadata": {},
     "output_type": "display_data"
    },
    {
     "name": "stdout",
     "output_type": "stream",
     "text": [
      "predicted center:  tensor([ -4.7112, -29.7481,   4.8062], device='cuda:0')\n",
      "ground truth center:  tensor([ -4.1589, -29.8004,   4.7721], device='cuda:0')\n",
      "sample protein Center [24.416315 39.6081   18.66123 ]\n",
      "sample ligand Center [23.673725 38.572468 16.074907]\n",
      "done success rate is:  1.0\n",
      "energy done for prediction\n",
      "energy done for ground truth\n",
      "epoch 29,  loss: 53.428\n"
     ]
    },
    {
     "data": {
      "application/vnd.jupyter.widget-view+json": {
       "model_id": "3cfd17cccd76409881c2914d884d810b",
       "version_major": 2,
       "version_minor": 0
      },
      "text/plain": [
       "sampling:   0%|          | 0/20 [00:00<?, ?it/s]"
      ]
     },
     "metadata": {},
     "output_type": "display_data"
    },
    {
     "name": "stdout",
     "output_type": "stream",
     "text": [
      "predicted center:  tensor([ -4.5549, -29.7884,   4.7462], device='cuda:0')\n",
      "ground truth center:  tensor([ -4.1589, -29.8004,   4.7721], device='cuda:0')\n",
      "sample protein Center [24.416315 39.6081   18.66123 ]\n",
      "sample ligand Center [23.80077  38.91108  16.869783]\n",
      "done success rate is:  1.0\n",
      "energy done for prediction\n",
      "energy done for ground truth\n",
      "epoch 30,  loss: 0.036\n"
     ]
    },
    {
     "data": {
      "application/vnd.jupyter.widget-view+json": {
       "model_id": "7c437787447a4020aceb597d49cd5a64",
       "version_major": 2,
       "version_minor": 0
      },
      "text/plain": [
       "sampling:   0%|          | 0/20 [00:00<?, ?it/s]"
      ]
     },
     "metadata": {},
     "output_type": "display_data"
    },
    {
     "name": "stdout",
     "output_type": "stream",
     "text": [
      "predicted center:  tensor([ -3.9102, -29.8597,   4.6271], device='cuda:0')\n",
      "ground truth center:  tensor([ -4.1589, -29.8004,   4.7721], device='cuda:0')\n",
      "sample protein Center [24.416315 39.6081   18.66123 ]\n",
      "sample ligand Center [23.53098  39.36464  16.810326]\n",
      "done success rate is:  1.0\n",
      "energy done for prediction\n",
      "energy done for ground truth\n",
      "epoch 31,  loss: 0.030\n"
     ]
    },
    {
     "data": {
      "application/vnd.jupyter.widget-view+json": {
       "model_id": "bbcf446b1b3e44858d5184874a531739",
       "version_major": 2,
       "version_minor": 0
      },
      "text/plain": [
       "sampling:   0%|          | 0/20 [00:00<?, ?it/s]"
      ]
     },
     "metadata": {},
     "output_type": "display_data"
    },
    {
     "name": "stdout",
     "output_type": "stream",
     "text": [
      "predicted center:  tensor([ -4.4347, -30.0886,   4.6811], device='cuda:0')\n",
      "ground truth center:  tensor([ -4.1589, -29.8004,   4.7721], device='cuda:0')\n",
      "sample protein Center [24.416315 39.6081   18.66123 ]\n",
      "sample ligand Center [23.478437 39.52652  16.582409]\n",
      "done success rate is:  1.0\n",
      "energy done for prediction\n",
      "energy done for ground truth\n",
      "epoch 32,  loss: 46.391\n"
     ]
    },
    {
     "data": {
      "application/vnd.jupyter.widget-view+json": {
       "model_id": "2bd6ab708b0b47d091087fdc22946510",
       "version_major": 2,
       "version_minor": 0
      },
      "text/plain": [
       "sampling:   0%|          | 0/20 [00:00<?, ?it/s]"
      ]
     },
     "metadata": {},
     "output_type": "display_data"
    },
    {
     "name": "stdout",
     "output_type": "stream",
     "text": [
      "predicted center:  tensor([ -4.2063, -29.6097,   4.4944], device='cuda:0')\n",
      "ground truth center:  tensor([ -4.1589, -29.8004,   4.7721], device='cuda:0')\n",
      "sample protein Center [24.416315 39.6081   18.66123 ]\n",
      "sample ligand Center [24.010769 38.900063 16.974382]\n",
      "done success rate is:  1.0\n",
      "energy done for prediction\n",
      "energy done for ground truth\n",
      "epoch 33,  loss: 45.327\n"
     ]
    },
    {
     "data": {
      "application/vnd.jupyter.widget-view+json": {
       "model_id": "00126ece531e4adb8f7b4a271b6d0b83",
       "version_major": 2,
       "version_minor": 0
      },
      "text/plain": [
       "sampling:   0%|          | 0/20 [00:00<?, ?it/s]"
      ]
     },
     "metadata": {},
     "output_type": "display_data"
    },
    {
     "name": "stdout",
     "output_type": "stream",
     "text": [
      "predicted center:  tensor([ -3.9787, -29.9055,   5.3187], device='cuda:0')\n",
      "ground truth center:  tensor([ -4.1589, -29.8004,   4.7721], device='cuda:0')\n",
      "sample protein Center [24.416315 39.6081   18.66123 ]\n",
      "sample ligand Center [23.637112 38.769783 16.269844]\n",
      "done success rate is:  1.0\n",
      "energy done for prediction\n",
      "energy done for ground truth\n",
      "epoch 34,  loss: 45.236\n"
     ]
    },
    {
     "data": {
      "application/vnd.jupyter.widget-view+json": {
       "model_id": "391a89b34732412e88b9d278283b0844",
       "version_major": 2,
       "version_minor": 0
      },
      "text/plain": [
       "sampling:   0%|          | 0/20 [00:00<?, ?it/s]"
      ]
     },
     "metadata": {},
     "output_type": "display_data"
    },
    {
     "name": "stdout",
     "output_type": "stream",
     "text": [
      "predicted center:  tensor([ -4.1039, -29.6611,   4.9122], device='cuda:0')\n",
      "ground truth center:  tensor([ -4.1589, -29.8004,   4.7721], device='cuda:0')\n",
      "sample protein Center [24.416315 39.6081   18.66123 ]\n",
      "sample ligand Center [22.893833 38.84373  16.705448]\n",
      "done success rate is:  1.0\n",
      "energy done for prediction\n",
      "energy done for ground truth\n",
      "epoch 35,  loss: 0.024\n"
     ]
    },
    {
     "data": {
      "application/vnd.jupyter.widget-view+json": {
       "model_id": "2fb3bb8be49448e58f006b5a8daaab41",
       "version_major": 2,
       "version_minor": 0
      },
      "text/plain": [
       "sampling:   0%|          | 0/20 [00:00<?, ?it/s]"
      ]
     },
     "metadata": {},
     "output_type": "display_data"
    },
    {
     "name": "stdout",
     "output_type": "stream",
     "text": [
      "predicted center:  tensor([ -4.1947, -29.6967,   4.5218], device='cuda:0')\n",
      "ground truth center:  tensor([ -4.1589, -29.8004,   4.7721], device='cuda:0')\n",
      "sample protein Center [24.416315 39.6081   18.66123 ]\n",
      "sample ligand Center [23.382755 38.784027 16.79475 ]\n",
      "done success rate is:  1.0\n",
      "energy done for prediction\n",
      "energy done for ground truth\n",
      "epoch 36,  loss: 0.047\n"
     ]
    },
    {
     "data": {
      "application/vnd.jupyter.widget-view+json": {
       "model_id": "61ae863969354d9ab96932cf72e0ea3b",
       "version_major": 2,
       "version_minor": 0
      },
      "text/plain": [
       "sampling:   0%|          | 0/20 [00:00<?, ?it/s]"
      ]
     },
     "metadata": {},
     "output_type": "display_data"
    },
    {
     "name": "stdout",
     "output_type": "stream",
     "text": [
      "predicted center:  tensor([ -4.0356, -30.0138,   5.1329], device='cuda:0')\n",
      "ground truth center:  tensor([ -4.1589, -29.8004,   4.7721], device='cuda:0')\n",
      "sample protein Center [24.416315 39.6081   18.66123 ]\n",
      "sample ligand Center [23.456821 39.454376 16.573032]\n",
      "done success rate is:  1.0\n",
      "energy done for prediction\n",
      "energy done for ground truth\n",
      "epoch 37,  loss: 0.034\n"
     ]
    },
    {
     "data": {
      "application/vnd.jupyter.widget-view+json": {
       "model_id": "a5c82bd5984d431390151b580bd2c41d",
       "version_major": 2,
       "version_minor": 0
      },
      "text/plain": [
       "sampling:   0%|          | 0/20 [00:00<?, ?it/s]"
      ]
     },
     "metadata": {},
     "output_type": "display_data"
    },
    {
     "name": "stdout",
     "output_type": "stream",
     "text": [
      "predicted center:  tensor([ -4.0202, -30.0045,   4.6874], device='cuda:0')\n",
      "ground truth center:  tensor([ -4.1589, -29.8004,   4.7721], device='cuda:0')\n",
      "sample protein Center [24.416315 39.6081   18.66123 ]\n",
      "sample ligand Center [23.410297 39.442276 16.219692]\n",
      "done success rate is:  1.0\n",
      "energy done for prediction\n",
      "energy done for ground truth\n",
      "epoch 38,  loss: 99.565\n"
     ]
    },
    {
     "data": {
      "application/vnd.jupyter.widget-view+json": {
       "model_id": "0cf01a0f3f60487ea26d29db0b1f3381",
       "version_major": 2,
       "version_minor": 0
      },
      "text/plain": [
       "sampling:   0%|          | 0/20 [00:00<?, ?it/s]"
      ]
     },
     "metadata": {},
     "output_type": "display_data"
    },
    {
     "name": "stdout",
     "output_type": "stream",
     "text": [
      "predicted center:  tensor([ -4.1013, -30.1907,   4.7720], device='cuda:0')\n",
      "ground truth center:  tensor([ -4.1589, -29.8004,   4.7721], device='cuda:0')\n",
      "sample protein Center [24.416315 39.6081   18.66123 ]\n",
      "sample ligand Center [23.500769 39.109184 16.752256]\n",
      "done success rate is:  1.0\n",
      "energy done for prediction\n",
      "energy done for ground truth\n",
      "epoch 39,  loss: 52.302\n"
     ]
    },
    {
     "data": {
      "application/vnd.jupyter.widget-view+json": {
       "model_id": "cb0ed74f0e434c33b4483c65ac810895",
       "version_major": 2,
       "version_minor": 0
      },
      "text/plain": [
       "sampling:   0%|          | 0/20 [00:00<?, ?it/s]"
      ]
     },
     "metadata": {},
     "output_type": "display_data"
    },
    {
     "name": "stdout",
     "output_type": "stream",
     "text": [
      "predicted center:  tensor([ -4.2560, -30.2239,   5.1106], device='cuda:0')\n",
      "ground truth center:  tensor([ -4.1589, -29.8004,   4.7721], device='cuda:0')\n",
      "sample protein Center [24.416315 39.6081   18.66123 ]\n",
      "sample ligand Center [23.181507 39.206947 16.657818]\n",
      "done success rate is:  1.0\n",
      "energy done for prediction\n",
      "energy done for ground truth\n",
      "epoch 40,  loss: 100.448\n"
     ]
    },
    {
     "data": {
      "application/vnd.jupyter.widget-view+json": {
       "model_id": "917417c58c8742e0ac4c4b462120cf3d",
       "version_major": 2,
       "version_minor": 0
      },
      "text/plain": [
       "sampling:   0%|          | 0/20 [00:00<?, ?it/s]"
      ]
     },
     "metadata": {},
     "output_type": "display_data"
    },
    {
     "name": "stdout",
     "output_type": "stream",
     "text": [
      "predicted center:  tensor([ -3.9358, -29.6643,   4.2281], device='cuda:0')\n",
      "ground truth center:  tensor([ -4.1589, -29.8004,   4.7721], device='cuda:0')\n",
      "sample protein Center [24.416315 39.6081   18.66123 ]\n",
      "sample ligand Center [24.034542 39.743866 16.967808]\n",
      "done success rate is:  1.0\n",
      "energy done for prediction\n",
      "energy done for ground truth\n",
      "epoch 41,  loss: 56.206\n"
     ]
    },
    {
     "data": {
      "application/vnd.jupyter.widget-view+json": {
       "model_id": "f8ed0646a6ae4203b32be785e8e94382",
       "version_major": 2,
       "version_minor": 0
      },
      "text/plain": [
       "sampling:   0%|          | 0/20 [00:00<?, ?it/s]"
      ]
     },
     "metadata": {},
     "output_type": "display_data"
    },
    {
     "name": "stdout",
     "output_type": "stream",
     "text": [
      "predicted center:  tensor([ -4.2042, -29.7379,   4.8527], device='cuda:0')\n",
      "ground truth center:  tensor([ -4.1589, -29.8004,   4.7721], device='cuda:0')\n",
      "sample protein Center [24.416315 39.6081   18.66123 ]\n",
      "sample ligand Center [23.128834 38.973053 16.971611]\n",
      "done success rate is:  1.0\n",
      "energy done for prediction\n",
      "energy done for ground truth\n",
      "epoch 42,  loss: 0.028\n"
     ]
    },
    {
     "data": {
      "application/vnd.jupyter.widget-view+json": {
       "model_id": "405466dcaf004fddbe540686051c5062",
       "version_major": 2,
       "version_minor": 0
      },
      "text/plain": [
       "sampling:   0%|          | 0/20 [00:00<?, ?it/s]"
      ]
     },
     "metadata": {},
     "output_type": "display_data"
    },
    {
     "name": "stdout",
     "output_type": "stream",
     "text": [
      "predicted center:  tensor([ -4.0795, -29.8921,   5.1813], device='cuda:0')\n",
      "ground truth center:  tensor([ -4.1589, -29.8004,   4.7721], device='cuda:0')\n",
      "sample protein Center [24.416315 39.6081   18.66123 ]\n",
      "sample ligand Center [23.267796 39.830574 16.371965]\n",
      "done success rate is:  1.0\n",
      "energy done for prediction\n",
      "energy done for ground truth\n",
      "epoch 43,  loss: 61.423\n"
     ]
    },
    {
     "data": {
      "application/vnd.jupyter.widget-view+json": {
       "model_id": "a8fb691d7fce46059c2884a4f4b4b5a4",
       "version_major": 2,
       "version_minor": 0
      },
      "text/plain": [
       "sampling:   0%|          | 0/20 [00:00<?, ?it/s]"
      ]
     },
     "metadata": {},
     "output_type": "display_data"
    },
    {
     "name": "stdout",
     "output_type": "stream",
     "text": [
      "predicted center:  tensor([ -3.9937, -29.8451,   4.7735], device='cuda:0')\n",
      "ground truth center:  tensor([ -4.1589, -29.8004,   4.7721], device='cuda:0')\n",
      "sample protein Center [24.416315 39.6081   18.66123 ]\n",
      "sample ligand Center [23.18369  39.57012  16.739723]\n",
      "done success rate is:  1.0\n",
      "energy done for prediction\n",
      "energy done for ground truth\n",
      "epoch 44,  loss: 0.029\n"
     ]
    },
    {
     "data": {
      "application/vnd.jupyter.widget-view+json": {
       "model_id": "2728153c450c4d0282afc59f919832d0",
       "version_major": 2,
       "version_minor": 0
      },
      "text/plain": [
       "sampling:   0%|          | 0/20 [00:00<?, ?it/s]"
      ]
     },
     "metadata": {},
     "output_type": "display_data"
    },
    {
     "name": "stdout",
     "output_type": "stream",
     "text": [
      "predicted center:  tensor([ -4.2539, -29.5193,   5.0092], device='cuda:0')\n",
      "ground truth center:  tensor([ -4.1589, -29.8004,   4.7721], device='cuda:0')\n",
      "sample protein Center [24.416315 39.6081   18.66123 ]\n",
      "sample ligand Center [23.279171 39.454994 17.165876]\n",
      "============ infeasible structure\n",
      "done success rate is:  0.99\n",
      "energy done for prediction\n",
      "energy done for ground truth\n",
      "epoch 45,  loss: 52.988\n"
     ]
    },
    {
     "data": {
      "application/vnd.jupyter.widget-view+json": {
       "model_id": "d099a680d2d645b1b081f439c2f7b739",
       "version_major": 2,
       "version_minor": 0
      },
      "text/plain": [
       "sampling:   0%|          | 0/20 [00:00<?, ?it/s]"
      ]
     },
     "metadata": {},
     "output_type": "display_data"
    },
    {
     "name": "stdout",
     "output_type": "stream",
     "text": [
      "predicted center:  tensor([ -4.1672, -29.8370,   4.7309], device='cuda:0')\n",
      "ground truth center:  tensor([ -4.1589, -29.8004,   4.7721], device='cuda:0')\n",
      "sample protein Center [24.416315 39.6081   18.66123 ]\n",
      "sample ligand Center [23.335667 39.211693 16.989803]\n",
      "done success rate is:  1.0\n",
      "energy done for prediction\n",
      "energy done for ground truth\n",
      "epoch 46,  loss: 0.035\n"
     ]
    },
    {
     "data": {
      "application/vnd.jupyter.widget-view+json": {
       "model_id": "9cc756c7fee544af9ce93349be1f072e",
       "version_major": 2,
       "version_minor": 0
      },
      "text/plain": [
       "sampling:   0%|          | 0/20 [00:00<?, ?it/s]"
      ]
     },
     "metadata": {},
     "output_type": "display_data"
    },
    {
     "name": "stdout",
     "output_type": "stream",
     "text": [
      "predicted center:  tensor([ -4.0253, -29.7781,   4.8945], device='cuda:0')\n",
      "ground truth center:  tensor([ -4.1589, -29.8004,   4.7721], device='cuda:0')\n",
      "sample protein Center [24.416315 39.6081   18.66123 ]\n",
      "sample ligand Center [23.203491 39.135857 17.270214]\n",
      "done success rate is:  1.0\n",
      "energy done for prediction\n",
      "energy done for ground truth\n",
      "epoch 47,  loss: 44.276\n"
     ]
    },
    {
     "data": {
      "application/vnd.jupyter.widget-view+json": {
       "model_id": "bd3f17c416a34898a00cd6dd8075e5e7",
       "version_major": 2,
       "version_minor": 0
      },
      "text/plain": [
       "sampling:   0%|          | 0/20 [00:00<?, ?it/s]"
      ]
     },
     "metadata": {},
     "output_type": "display_data"
    },
    {
     "name": "stdout",
     "output_type": "stream",
     "text": [
      "predicted center:  tensor([ -4.1516, -29.4504,   4.8308], device='cuda:0')\n",
      "ground truth center:  tensor([ -4.1589, -29.8004,   4.7721], device='cuda:0')\n",
      "sample protein Center [24.416315 39.6081   18.66123 ]\n",
      "sample ligand Center [23.064672 39.291687 16.185587]\n",
      "done success rate is:  1.0\n",
      "energy done for prediction\n",
      "energy done for ground truth\n",
      "epoch 48,  loss: 0.026\n"
     ]
    },
    {
     "data": {
      "application/vnd.jupyter.widget-view+json": {
       "model_id": "c3288600640c490a8a57a1bd352fefb5",
       "version_major": 2,
       "version_minor": 0
      },
      "text/plain": [
       "sampling:   0%|          | 0/20 [00:00<?, ?it/s]"
      ]
     },
     "metadata": {},
     "output_type": "display_data"
    },
    {
     "name": "stdout",
     "output_type": "stream",
     "text": [
      "predicted center:  tensor([ -3.9667, -29.7855,   4.8584], device='cuda:0')\n",
      "ground truth center:  tensor([ -4.1589, -29.8004,   4.7721], device='cuda:0')\n",
      "sample protein Center [24.416315 39.6081   18.66123 ]\n",
      "sample ligand Center [23.655928 39.32438  17.039297]\n",
      "done success rate is:  1.0\n",
      "energy done for prediction\n",
      "energy done for ground truth\n",
      "epoch 49,  loss: 102.252\n",
      "End of training .... YAYYYYY :)\n"
     ]
    }
   ],
   "source": [
    "# %%capture output\n",
    "\n",
    "import torch\n",
    "import numpy as np\n",
    "import torch.nn as nn\n",
    "from torch.utils.data import DataLoader, TensorDataset\n",
    "\n",
    "class EnergyTuneNet(nn.Module):\n",
    "    def __init__(self):\n",
    "        super(EnergyTuneNet, self).__init__()\n",
    "        self.conv1 = nn.Conv2d(in_channels = 1, out_channels = 10, kernel_size = (3, 3)).cuda()   # 23 * 8 # 23 * 18\n",
    "        self.pool = nn.AvgPool2d(2, (2,1)).cuda()                                                     # 11 * 8 # 11 * 9\n",
    "        self.conv2 = nn.Conv2d(in_channels = 10, out_channels = 25, kernel_size = (3, 3)).cuda()  # 9 * 6   # 9 * 7 -> 4 * 3\n",
    "        self.fc1 = nn.Linear(25 * 4 * 4, 2048).cuda()\n",
    "        self.fc2 = nn.Linear(2048, 1024).cuda()\n",
    "        self.fc3 = nn.Linear(1024, 250).cuda()\n",
    "        self.ReLU = nn.ReLU().cuda()\n",
    "        self.Flatten = nn.Flatten().cuda()\n",
    "        self.dropout = nn.Dropout(0.3).cuda()\n",
    "\n",
    "    def forward(self, x):\n",
    "        x = x.cuda()\n",
    "        o = torch.reshape(x, (-1, 1, 25, 10))\n",
    "        o = self.pool(self.ReLU(self.conv1(o)))\n",
    "        o = self.pool(self.ReLU(self.conv2(o)))\n",
    "        o = self.Flatten(o)\n",
    "        o = self.ReLU(self.fc1(o))\n",
    "        o = self.dropout(o)\n",
    "        o = self.ReLU(self.fc2(o))\n",
    "        o = self.dropout(o)\n",
    "        o = self.fc3(o)\n",
    "        return o\n",
    "\n",
    "\n",
    "## -- -- ##\n",
    "## Prep the data ##\n",
    "# tr_dataset = TensorDataset(tr_data, tr_label) ## if applicable\n",
    "# tr_loader = DataLoader(tr_dataset, batch_size = BATCH_SIZE, shuffle = False)\n",
    "\n",
    "# va_dataset = TensorDataset(va_data, va_label) ## if applicable\n",
    "# va_loader = DataLoader(va_dataset, batch_size = BATCH_SIZE, shuffle = False)\n",
    "## -- -- ##\n",
    "\n",
    "\n",
    "ETN = EnergyTuneNet()\n",
    "if torch.cuda.is_available():\n",
    "    model.cuda()\n",
    "optimizer = torch.optim.Adam(ETN.parameters(), lr = 0.001, betas=(0.9,0.999), eps=1e-8)\n",
    "\n",
    "nepochs = 50\n",
    "all_loss = []\n",
    "for epoch in range(nepochs):\n",
    "    loss_record = 0\n",
    "    \n",
    "    optimizer.zero_grad()\n",
    "    predicted_embd3d = ETN(emb3d.cuda())\n",
    "    r = decoder(model, batch, predicted_embd3d)\n",
    "    ligand_pos, ligand_atom = recover_pos(batch, r)\n",
    "    loss = get_energy_based_loss()\n",
    "    loss = torch.tensor(loss).cuda()\n",
    "    loss.requires_grad = True\n",
    "    # print(loss)\n",
    "    loss = loss.sum()\n",
    "    loss.backward()\n",
    "    optimizer.step()\n",
    "    \n",
    "    loss_record += loss\n",
    "    all_loss.append(loss)\n",
    "    \n",
    "    print(f\"epoch {epoch:d},  loss: {loss_record:.3f}\")\n",
    "\n",
    "print(\"End of training .... YAYYYYY :)\")"
   ]
  },
  {
   "cell_type": "code",
   "execution_count": 27,
   "id": "35814973-6ef2-4de9-a647-23d28d6e14d5",
   "metadata": {
    "tags": []
   },
   "outputs": [
    {
     "data": {
      "text/plain": [
       "[<matplotlib.lines.Line2D at 0x7f9df06a6580>]"
      ]
     },
     "execution_count": 27,
     "metadata": {},
     "output_type": "execute_result"
    },
    {
     "data": {
      "image/png": "[encoded data removed]",
      "text/plain": [
       "<Figure size 640x480 with 1 Axes>"
      ]
     },
     "metadata": {},
     "output_type": "display_data"
    }
   ],
   "source": [
    "l_all = []\n",
    "for l in all_loss:\n",
    "    l_all.append(float(l))\n",
    "plt.plot(l_all)\n",
    "\n",
    "# all_loss"
   ]
  },
  {
   "cell_type": "code",
   "execution_count": 28,
   "id": "e7031bcc-c405-4159-9fc3-4d63852fa62d",
   "metadata": {
    "tags": []
   },
   "outputs": [],
   "source": [
    "import pickle\n",
    "with open('loss_z.pkl', 'wb') as f:  # Python 3: open(..., 'wb')\n",
    "    pickle.dump(l_all, f)"
   ]
  }
 ],
 "metadata": {
  "kernelspec": {
   "display_name": "graph",
   "language": "python",
   "name": "graph"
  },
  "language_info": {
   "codemirror_mode": {
    "name": "ipython",
    "version": 3
   },
   "file_extension": ".py",
   "mimetype": "text/x-python",
   "name": "python",
   "nbconvert_exporter": "python",
   "pygments_lexer": "ipython3",
   "version": "3.9.12"
  }
 },
 "nbformat": 4,
 "nbformat_minor": 5
}
